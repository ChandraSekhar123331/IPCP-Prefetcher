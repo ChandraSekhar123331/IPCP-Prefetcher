{
 "cells": [
  {
   "cell_type": "code",
   "execution_count": 20,
   "metadata": {},
   "outputs": [],
   "source": [
    "import pandas as pd\n",
    "import numpy as np\n",
    "import matplotlib.pyplot as plt"
   ]
  },
  {
   "cell_type": "code",
   "execution_count": 21,
   "metadata": {},
   "outputs": [],
   "source": [
    "file_path = \"./ChampSim_Customized-master/results_10M/temp/Components_70B.trace.gz-bimodal-no-risk5-risk5-risk5-no-no-no-no-lru-srrip-srrip-srrip-lru-lru-lru-1core.txt\"\n"
   ]
  },
  {
   "cell_type": "code",
   "execution_count": 22,
   "metadata": {},
   "outputs": [],
   "source": [
    "ignore_list = []\n",
    "with open(file_path) as file:\n",
    "    line_num = 0\n",
    "    while(True):\n",
    "        line = file.readline()\n",
    "        if not line:\n",
    "            break\n",
    "        elif len(line.strip().split()) != 5:\n",
    "            ignore_list.append(line_num)\n",
    "        else:\n",
    "            ls = line.strip().split()\n",
    "            try:\n",
    "                ls[0] = int(ls[0])\n",
    "                ls[1] = int(ls[1])\n",
    "                ls[2] = int(ls[2])\n",
    "                if ls[3] not in [\"new ip\", \"CS\", \"GS\", \"CPLX\", \"NL\", \"protect\"]:\n",
    "                    ignore_list.append(line_num)\n",
    "                if ls[4] not in [\"Prefetch\",\"Load\"]:\n",
    "                    ignore_list.append(line_num)\n",
    "\n",
    "            except:\n",
    "                ignore_list.append(line_num)\n",
    "        line_num+=1"
   ]
  },
  {
   "cell_type": "code",
   "execution_count": 23,
   "metadata": {},
   "outputs": [
    {
     "data": {
      "text/plain": [
       "[0,\n",
       " 1,\n",
       " 2,\n",
       " 3,\n",
       " 4,\n",
       " 5,\n",
       " 6,\n",
       " 7,\n",
       " 8,\n",
       " 9,\n",
       " 10,\n",
       " 11,\n",
       " 12,\n",
       " 13,\n",
       " 14,\n",
       " 15,\n",
       " 16,\n",
       " 17,\n",
       " 18,\n",
       " 19,\n",
       " 20,\n",
       " 21,\n",
       " 22,\n",
       " 23,\n",
       " 24,\n",
       " 25,\n",
       " 78,\n",
       " 1748,\n",
       " 38863,\n",
       " 69512,\n",
       " 102308,\n",
       " 136270,\n",
       " 172112,\n",
       " 207398,\n",
       " 244697,\n",
       " 279747,\n",
       " 315018,\n",
       " 354305,\n",
       " 354306,\n",
       " 354307,\n",
       " 354308,\n",
       " 442676,\n",
       " 564709,\n",
       " 619813,\n",
       " 704757,\n",
       " 809986,\n",
       " 911113,\n",
       " 1030115,\n",
       " 1119190,\n",
       " 1238074,\n",
       " 1350891,\n",
       " 1350892,\n",
       " 1350893,\n",
       " 1350894,\n",
       " 1350895,\n",
       " 1350896,\n",
       " 1350897,\n",
       " 1350898,\n",
       " 1350899,\n",
       " 1350900,\n",
       " 1350901,\n",
       " 1350902,\n",
       " 1350903,\n",
       " 1350904,\n",
       " 1350905,\n",
       " 1350906,\n",
       " 1350907,\n",
       " 1350908,\n",
       " 1350909,\n",
       " 1350910,\n",
       " 1350911,\n",
       " 1350912,\n",
       " 1350913,\n",
       " 1350914,\n",
       " 1350915,\n",
       " 1350916,\n",
       " 1350917,\n",
       " 1350918,\n",
       " 1350919,\n",
       " 1350920,\n",
       " 1350921,\n",
       " 1350922,\n",
       " 1350923,\n",
       " 1350924,\n",
       " 1350925,\n",
       " 1350926,\n",
       " 1350927,\n",
       " 1350928,\n",
       " 1350929,\n",
       " 1350930,\n",
       " 1350931,\n",
       " 1350932,\n",
       " 1350933,\n",
       " 1350934,\n",
       " 1350935,\n",
       " 1350936,\n",
       " 1350937,\n",
       " 1350938,\n",
       " 1350939,\n",
       " 1350940,\n",
       " 1350941,\n",
       " 1350942,\n",
       " 1350943,\n",
       " 1350944,\n",
       " 1350945,\n",
       " 1350946,\n",
       " 1350947,\n",
       " 1350948,\n",
       " 1350949,\n",
       " 1350950,\n",
       " 1350951,\n",
       " 1350952,\n",
       " 1350953,\n",
       " 1350954,\n",
       " 1350955,\n",
       " 1350956,\n",
       " 1350957,\n",
       " 1350958,\n",
       " 1350959,\n",
       " 1350960,\n",
       " 1350961,\n",
       " 1350962,\n",
       " 1350963,\n",
       " 1350964,\n",
       " 1350965,\n",
       " 1350966,\n",
       " 1350967,\n",
       " 1350968,\n",
       " 1350969,\n",
       " 1350970,\n",
       " 1350971,\n",
       " 1350972,\n",
       " 1350973,\n",
       " 1350974,\n",
       " 1350975,\n",
       " 1350976,\n",
       " 1350977,\n",
       " 1350978,\n",
       " 1350979,\n",
       " 1350980,\n",
       " 1350981,\n",
       " 1350982,\n",
       " 1350983,\n",
       " 1350984,\n",
       " 1350985,\n",
       " 1350986,\n",
       " 1350987,\n",
       " 1350988,\n",
       " 1350989,\n",
       " 1350990,\n",
       " 1350991,\n",
       " 1350992,\n",
       " 1350993,\n",
       " 1350994,\n",
       " 1350995,\n",
       " 1350996,\n",
       " 1350997,\n",
       " 1350998,\n",
       " 1350999,\n",
       " 1351000,\n",
       " 1351001,\n",
       " 1351002,\n",
       " 1351003,\n",
       " 1351004,\n",
       " 1351005,\n",
       " 1351006,\n",
       " 1351007,\n",
       " 1351008,\n",
       " 1351009,\n",
       " 1351010,\n",
       " 1351011,\n",
       " 1351012,\n",
       " 1351013,\n",
       " 1351014,\n",
       " 1351015,\n",
       " 1351016,\n",
       " 1351017,\n",
       " 1351018,\n",
       " 1351019,\n",
       " 1351020,\n",
       " 1351021,\n",
       " 1351022,\n",
       " 1351023,\n",
       " 1351024,\n",
       " 1351025,\n",
       " 1351026,\n",
       " 1351027,\n",
       " 1351028,\n",
       " 1351029,\n",
       " 1351030,\n",
       " 1351031,\n",
       " 1351032,\n",
       " 1351033,\n",
       " 1351034,\n",
       " 1351035,\n",
       " 1351036,\n",
       " 1351037,\n",
       " 1351038,\n",
       " 1351039,\n",
       " 1351040,\n",
       " 1351041,\n",
       " 1351042,\n",
       " 1351043,\n",
       " 1351044,\n",
       " 1351045,\n",
       " 1351046]"
      ]
     },
     "execution_count": 23,
     "metadata": {},
     "output_type": "execute_result"
    }
   ],
   "source": [
    "ignore_list"
   ]
  },
  {
   "cell_type": "code",
   "execution_count": 24,
   "metadata": {},
   "outputs": [],
   "source": [
    "data = pd.read_csv(file_path, sep = \" \", skiprows= ignore_list, names= [\"ip\", \"address\",\"pref_address\", \"type\", \"Load/Pref\"])"
   ]
  },
  {
   "cell_type": "code",
   "execution_count": 25,
   "metadata": {},
   "outputs": [
    {
     "data": {
      "text/html": [
       "<div>\n",
       "<style scoped>\n",
       "    .dataframe tbody tr th:only-of-type {\n",
       "        vertical-align: middle;\n",
       "    }\n",
       "\n",
       "    .dataframe tbody tr th {\n",
       "        vertical-align: top;\n",
       "    }\n",
       "\n",
       "    .dataframe thead th {\n",
       "        text-align: right;\n",
       "    }\n",
       "</style>\n",
       "<table border=\"1\" class=\"dataframe\">\n",
       "  <thead>\n",
       "    <tr style=\"text-align: right;\">\n",
       "      <th></th>\n",
       "      <th>ip</th>\n",
       "      <th>address</th>\n",
       "      <th>pref_address</th>\n",
       "      <th>type</th>\n",
       "      <th>Load/Pref</th>\n",
       "    </tr>\n",
       "  </thead>\n",
       "  <tbody>\n",
       "    <tr>\n",
       "      <th>0</th>\n",
       "      <td>94714353971232</td>\n",
       "      <td>702778648108</td>\n",
       "      <td>702778648109</td>\n",
       "      <td>CS</td>\n",
       "      <td>Prefetch</td>\n",
       "    </tr>\n",
       "    <tr>\n",
       "      <th>1</th>\n",
       "      <td>94714353971232</td>\n",
       "      <td>702778648108</td>\n",
       "      <td>702778648110</td>\n",
       "      <td>CS</td>\n",
       "      <td>Prefetch</td>\n",
       "    </tr>\n",
       "    <tr>\n",
       "      <th>2</th>\n",
       "      <td>94714353971232</td>\n",
       "      <td>702778648108</td>\n",
       "      <td>702778648111</td>\n",
       "      <td>CS</td>\n",
       "      <td>Prefetch</td>\n",
       "    </tr>\n",
       "    <tr>\n",
       "      <th>3</th>\n",
       "      <td>94714353971232</td>\n",
       "      <td>702778648108</td>\n",
       "      <td>702778648112</td>\n",
       "      <td>CS</td>\n",
       "      <td>Prefetch</td>\n",
       "    </tr>\n",
       "    <tr>\n",
       "      <th>4</th>\n",
       "      <td>94714353971232</td>\n",
       "      <td>702778648110</td>\n",
       "      <td>702778648111</td>\n",
       "      <td>CS</td>\n",
       "      <td>Prefetch</td>\n",
       "    </tr>\n",
       "    <tr>\n",
       "      <th>...</th>\n",
       "      <td>...</td>\n",
       "      <td>...</td>\n",
       "      <td>...</td>\n",
       "      <td>...</td>\n",
       "      <td>...</td>\n",
       "    </tr>\n",
       "    <tr>\n",
       "      <th>1350836</th>\n",
       "      <td>94714353971856</td>\n",
       "      <td>2529907121880</td>\n",
       "      <td>2529907121881</td>\n",
       "      <td>NL</td>\n",
       "      <td>Load</td>\n",
       "    </tr>\n",
       "    <tr>\n",
       "      <th>1350837</th>\n",
       "      <td>94714353971842</td>\n",
       "      <td>835223753992</td>\n",
       "      <td>835223753993</td>\n",
       "      <td>NL</td>\n",
       "      <td>Load</td>\n",
       "    </tr>\n",
       "    <tr>\n",
       "      <th>1350838</th>\n",
       "      <td>94714353971842</td>\n",
       "      <td>2094211492510</td>\n",
       "      <td>2094211492511</td>\n",
       "      <td>NL</td>\n",
       "      <td>Load</td>\n",
       "    </tr>\n",
       "    <tr>\n",
       "      <th>1350839</th>\n",
       "      <td>94714353971842</td>\n",
       "      <td>3058491316031</td>\n",
       "      <td>3058491316032</td>\n",
       "      <td>NL</td>\n",
       "      <td>Load</td>\n",
       "    </tr>\n",
       "    <tr>\n",
       "      <th>1350840</th>\n",
       "      <td>94714353971856</td>\n",
       "      <td>2094211492582</td>\n",
       "      <td>2094211492583</td>\n",
       "      <td>NL</td>\n",
       "      <td>Load</td>\n",
       "    </tr>\n",
       "  </tbody>\n",
       "</table>\n",
       "<p>1350841 rows × 5 columns</p>\n",
       "</div>"
      ],
      "text/plain": [
       "                     ip        address   pref_address type Load/Pref\n",
       "0        94714353971232   702778648108   702778648109   CS  Prefetch\n",
       "1        94714353971232   702778648108   702778648110   CS  Prefetch\n",
       "2        94714353971232   702778648108   702778648111   CS  Prefetch\n",
       "3        94714353971232   702778648108   702778648112   CS  Prefetch\n",
       "4        94714353971232   702778648110   702778648111   CS  Prefetch\n",
       "...                 ...            ...            ...  ...       ...\n",
       "1350836  94714353971856  2529907121880  2529907121881   NL      Load\n",
       "1350837  94714353971842   835223753992   835223753993   NL      Load\n",
       "1350838  94714353971842  2094211492510  2094211492511   NL      Load\n",
       "1350839  94714353971842  3058491316031  3058491316032   NL      Load\n",
       "1350840  94714353971856  2094211492582  2094211492583   NL      Load\n",
       "\n",
       "[1350841 rows x 5 columns]"
      ]
     },
     "execution_count": 25,
     "metadata": {},
     "output_type": "execute_result"
    }
   ],
   "source": [
    "data"
   ]
  },
  {
   "cell_type": "code",
   "execution_count": 26,
   "metadata": {},
   "outputs": [
    {
     "data": {
      "text/plain": [
       "1350841"
      ]
     },
     "execution_count": 26,
     "metadata": {},
     "output_type": "execute_result"
    }
   ],
   "source": [
    "length = data.shape[0]\n",
    "length"
   ]
  },
  {
   "cell_type": "code",
   "execution_count": 27,
   "metadata": {},
   "outputs": [],
   "source": [
    "reqd_data = data[length//2:].reset_index(drop = True)"
   ]
  },
  {
   "cell_type": "code",
   "execution_count": 28,
   "metadata": {},
   "outputs": [
    {
     "data": {
      "text/html": [
       "<div>\n",
       "<style scoped>\n",
       "    .dataframe tbody tr th:only-of-type {\n",
       "        vertical-align: middle;\n",
       "    }\n",
       "\n",
       "    .dataframe tbody tr th {\n",
       "        vertical-align: top;\n",
       "    }\n",
       "\n",
       "    .dataframe thead th {\n",
       "        text-align: right;\n",
       "    }\n",
       "</style>\n",
       "<table border=\"1\" class=\"dataframe\">\n",
       "  <thead>\n",
       "    <tr style=\"text-align: right;\">\n",
       "      <th></th>\n",
       "      <th>ip</th>\n",
       "      <th>address</th>\n",
       "      <th>pref_address</th>\n",
       "      <th>type</th>\n",
       "      <th>Load/Pref</th>\n",
       "    </tr>\n",
       "  </thead>\n",
       "  <tbody>\n",
       "    <tr>\n",
       "      <th>0</th>\n",
       "      <td>94714353971856</td>\n",
       "      <td>1795796980994</td>\n",
       "      <td>1795796980995</td>\n",
       "      <td>NL</td>\n",
       "      <td>Load</td>\n",
       "    </tr>\n",
       "    <tr>\n",
       "      <th>1</th>\n",
       "      <td>94714353971856</td>\n",
       "      <td>641304937204</td>\n",
       "      <td>641304937205</td>\n",
       "      <td>NL</td>\n",
       "      <td>Load</td>\n",
       "    </tr>\n",
       "    <tr>\n",
       "      <th>2</th>\n",
       "      <td>94714353971842</td>\n",
       "      <td>871682467261</td>\n",
       "      <td>871682467262</td>\n",
       "      <td>NL</td>\n",
       "      <td>Load</td>\n",
       "    </tr>\n",
       "    <tr>\n",
       "      <th>3</th>\n",
       "      <td>94714353971856</td>\n",
       "      <td>2925859928482</td>\n",
       "      <td>2925859928483</td>\n",
       "      <td>NL</td>\n",
       "      <td>Load</td>\n",
       "    </tr>\n",
       "    <tr>\n",
       "      <th>4</th>\n",
       "      <td>94714353971842</td>\n",
       "      <td>3686367624821</td>\n",
       "      <td>3686367624822</td>\n",
       "      <td>NL</td>\n",
       "      <td>Load</td>\n",
       "    </tr>\n",
       "    <tr>\n",
       "      <th>...</th>\n",
       "      <td>...</td>\n",
       "      <td>...</td>\n",
       "      <td>...</td>\n",
       "      <td>...</td>\n",
       "      <td>...</td>\n",
       "    </tr>\n",
       "    <tr>\n",
       "      <th>675416</th>\n",
       "      <td>94714353971856</td>\n",
       "      <td>2529907121880</td>\n",
       "      <td>2529907121881</td>\n",
       "      <td>NL</td>\n",
       "      <td>Load</td>\n",
       "    </tr>\n",
       "    <tr>\n",
       "      <th>675417</th>\n",
       "      <td>94714353971842</td>\n",
       "      <td>835223753992</td>\n",
       "      <td>835223753993</td>\n",
       "      <td>NL</td>\n",
       "      <td>Load</td>\n",
       "    </tr>\n",
       "    <tr>\n",
       "      <th>675418</th>\n",
       "      <td>94714353971842</td>\n",
       "      <td>2094211492510</td>\n",
       "      <td>2094211492511</td>\n",
       "      <td>NL</td>\n",
       "      <td>Load</td>\n",
       "    </tr>\n",
       "    <tr>\n",
       "      <th>675419</th>\n",
       "      <td>94714353971842</td>\n",
       "      <td>3058491316031</td>\n",
       "      <td>3058491316032</td>\n",
       "      <td>NL</td>\n",
       "      <td>Load</td>\n",
       "    </tr>\n",
       "    <tr>\n",
       "      <th>675420</th>\n",
       "      <td>94714353971856</td>\n",
       "      <td>2094211492582</td>\n",
       "      <td>2094211492583</td>\n",
       "      <td>NL</td>\n",
       "      <td>Load</td>\n",
       "    </tr>\n",
       "  </tbody>\n",
       "</table>\n",
       "<p>675421 rows × 5 columns</p>\n",
       "</div>"
      ],
      "text/plain": [
       "                    ip        address   pref_address type Load/Pref\n",
       "0       94714353971856  1795796980994  1795796980995   NL      Load\n",
       "1       94714353971856   641304937204   641304937205   NL      Load\n",
       "2       94714353971842   871682467261   871682467262   NL      Load\n",
       "3       94714353971856  2925859928482  2925859928483   NL      Load\n",
       "4       94714353971842  3686367624821  3686367624822   NL      Load\n",
       "...                ...            ...            ...  ...       ...\n",
       "675416  94714353971856  2529907121880  2529907121881   NL      Load\n",
       "675417  94714353971842   835223753992   835223753993   NL      Load\n",
       "675418  94714353971842  2094211492510  2094211492511   NL      Load\n",
       "675419  94714353971842  3058491316031  3058491316032   NL      Load\n",
       "675420  94714353971856  2094211492582  2094211492583   NL      Load\n",
       "\n",
       "[675421 rows x 5 columns]"
      ]
     },
     "execution_count": 28,
     "metadata": {},
     "output_type": "execute_result"
    }
   ],
   "source": [
    "reqd_data"
   ]
  },
  {
   "cell_type": "code",
   "execution_count": 29,
   "metadata": {
    "scrolled": false
   },
   "outputs": [
    {
     "data": {
      "image/png": "[encoded data removed]",
      "text/plain": [
       "<Figure size 432x288 with 2 Axes>"
      ]
     },
     "metadata": {
      "needs_background": "light"
     },
     "output_type": "display_data"
    },
    {
     "name": "stdout",
     "output_type": "stream",
     "text": [
      "                ip        address   pref_address type Load/Pref\n",
      "0   94714353971856  1795796980994  1795796980995   NL      Load\n",
      "1   94714353971856   641304937204   641304937205   NL      Load\n",
      "2   94714353971856  2925859928482  2925859928483   NL      Load\n",
      "3   94714353971856   758916128577   758916128578   NL      Load\n",
      "4   94714353971856  2660763287812  2660763287813   NL      Load\n",
      "5   94714353971856  2660763296126  2660763296127   NL      Load\n",
      "6   94714353971856  2660763285310  2660763285311   NL      Load\n",
      "7   94714353971856  1664050736122  1664050736123   NL      Load\n",
      "8   94714353971856  1473615215374  1473615215375   NL      Load\n",
      "9   94714353971856  1453186402945  1453186402946   NL      Load\n",
      "10  94714353971856   510223568544   510223568545   NL      Load\n",
      "11  94714353971856  3475289746563  3475289746564   NL      Load\n",
      "12  94714353971856  3524617694468  3524617694469   NL      Load\n",
      "13  94714353971856  4384930261988  4384930261989   NL      Load\n",
      "14  94714353971856  1995311250626  1995311250627   NL      Load\n",
      "15  94714353971856  3058491307450  3058491307451   NL      Load\n",
      "16  94714353971856  1453186402497  1453186402498   NL      Load\n",
      "17  94714353971856  3707401112254  3707401112255   NL      Load\n",
      "18  94714353971856   307258428002   307258428003   NL      Load\n",
      "19  94714353971856  1453186398106  1453186398107   NL      Load\n"
     ]
    },
    {
     "data": {
      "image/png": "[encoded data removed]",
      "text/plain": [
       "<Figure size 432x288 with 2 Axes>"
      ]
     },
     "metadata": {
      "needs_background": "light"
     },
     "output_type": "display_data"
    },
    {
     "name": "stdout",
     "output_type": "stream",
     "text": [
      "                ip        address   pref_address type Load/Pref\n",
      "0   94714353971842   871682467261   871682467262   NL      Load\n",
      "1   94714353971842  3686367624821  3686367624822   NL      Load\n",
      "2   94714353971842  2384994530309  2384994530310   NL      Load\n",
      "3   94714353971842  2432589629813  2432589629814   NL      Load\n",
      "4   94714353971842  3524617688693  3524617688694   NL      Load\n",
      "5   94714353971842  2660763296004  2660763296005   NL      Load\n",
      "6   94714353971842  1453186400068  1453186400069   NL      Load\n",
      "7   94714353971842   858533875064   858533875065   NL      Load\n",
      "8   94714353971842  2660763281987  2660763281988   NL      Load\n",
      "9   94714353971842  3507688957701  3507688957702   NL      Load\n",
      "10  94714353971842  3475289746549  3475289746550   NL      Load\n",
      "11  94714353971842   858533875141   858533875142   NL      Load\n",
      "12  94714353971842  2912026149437  2912026149438   NL      Load\n",
      "13  94714353971842  3686367606597  3686367606598   NL      Load\n",
      "14  94714353971842  3376693908509  3376693908510   NL      Load\n",
      "15  94714353971842  3058491307379  3058491307380   NL      Load\n",
      "16  94714353971842  4084856404420  4084856404421   NL      Load\n",
      "17  94714353971842   835223753477   835223753478   NL      Load\n",
      "18  94714353971842  3507688958980  3507688958981   NL      Load\n",
      "19  94714353971842  3058491307380  3058491307381   NL  Prefetch\n"
     ]
    },
    {
     "data": {
      "image/png": "[encoded data removed]",
      "text/plain": [
       "<Figure size 432x288 with 2 Axes>"
      ]
     },
     "metadata": {
      "needs_background": "light"
     },
     "output_type": "display_data"
    },
    {
     "name": "stdout",
     "output_type": "stream",
     "text": [
      "                ip        address   pref_address type Load/Pref\n",
      "0   94714353971232  2429355675640  2429355675641   CS  Prefetch\n",
      "1   94714353971232  2429355675640  2429355675642   CS  Prefetch\n",
      "2   94714353971232  2429355675640  2429355675643   CS  Prefetch\n",
      "3   94714353971232  2429355675640  2429355675644   CS  Prefetch\n",
      "4   94714353971232  2429355675641  2429355675642   CS  Prefetch\n",
      "5   94714353971232  2429355675641  2429355675643   CS  Prefetch\n",
      "6   94714353971232  2429355675641  2429355675644   CS  Prefetch\n",
      "7   94714353971232  2429355675641  2429355675645   CS  Prefetch\n",
      "8   94714353971232  2429355675642  2429355675643   CS  Prefetch\n",
      "9   94714353971232  2429355675642  2429355675644   CS  Prefetch\n",
      "10  94714353971232  2429355675642  2429355675645   CS  Prefetch\n",
      "11  94714353971232  2429355675642  2429355675646   CS  Prefetch\n",
      "12  94714353971232  2429355675643  2429355675644   CS  Prefetch\n",
      "13  94714353971232  2429355675643  2429355675645   CS  Prefetch\n",
      "14  94714353971232  2429355675643  2429355675646   CS  Prefetch\n",
      "15  94714353971232  2429355675643  2429355675647   CS  Prefetch\n",
      "16  94714353971232  2429355675644  2429355675645   CS  Prefetch\n",
      "17  94714353971232  2429355675644  2429355675646   CS  Prefetch\n",
      "18  94714353971232  2429355675644  2429355675647   CS  Prefetch\n",
      "19  94714353971232  2429355675645  2429355675646   CS  Prefetch\n"
     ]
    },
    {
     "data": {
      "image/png": "[encoded data removed]",
      "text/plain": [
       "<Figure size 432x288 with 2 Axes>"
      ]
     },
     "metadata": {
      "needs_background": "light"
     },
     "output_type": "display_data"
    },
    {
     "name": "stdout",
     "output_type": "stream",
     "text": [
      "                ip        address   pref_address type Load/Pref\n",
      "0   94714353971875  2429355675478  2429355675479   CS  Prefetch\n",
      "1   94714353971875  2429355675478  2429355675480   CS  Prefetch\n",
      "2   94714353971875  2429355675478  2429355675481   CS  Prefetch\n",
      "3   94714353971875  2429355675478  2429355675482   CS  Prefetch\n",
      "4   94714353971875  2429355675479  2429355675480   CS  Prefetch\n",
      "5   94714353971875  2429355675479  2429355675481   CS  Prefetch\n",
      "6   94714353971875  2429355675479  2429355675482   CS  Prefetch\n",
      "7   94714353971875  2429355675479  2429355675483   CS  Prefetch\n",
      "8   94714353971875  2429355675480  2429355675481   CS  Prefetch\n",
      "9   94714353971875  2429355675480  2429355675482   CS  Prefetch\n",
      "10  94714353971875  2429355675480  2429355675483   CS  Prefetch\n",
      "11  94714353971875  2429355675480  2429355675484   CS  Prefetch\n",
      "12  94714353971875  2429355675481  2429355675482   CS  Prefetch\n",
      "13  94714353971875  2429355675481  2429355675483   CS  Prefetch\n",
      "14  94714353971875  2429355675481  2429355675484   CS  Prefetch\n",
      "15  94714353971875  2429355675481  2429355675485   CS  Prefetch\n",
      "16  94714353971875  2429355675482  2429355675483   CS  Prefetch\n",
      "17  94714353971875  2429355675482  2429355675484   CS  Prefetch\n",
      "18  94714353971875  2429355675482  2429355675485   CS  Prefetch\n",
      "19  94714353971875  2429355675482  2429355675486   CS  Prefetch\n"
     ]
    },
    {
     "data": {
      "image/png": "[encoded data removed]",
      "text/plain": [
       "<Figure size 432x288 with 2 Axes>"
      ]
     },
     "metadata": {
      "needs_background": "light"
     },
     "output_type": "display_data"
    },
    {
     "name": "stdout",
     "output_type": "stream",
     "text": [
      "                ip        address   pref_address type Load/Pref\n",
      "0   94714353971840  2429355675840  2429355675841   NL  Prefetch\n",
      "1   94714353971840  2429355675841  2429355675842   CS  Prefetch\n",
      "2   94714353971840  2429355675841  2429355675843   CS  Prefetch\n",
      "3   94714353971840  2429355675841  2429355675844   CS  Prefetch\n",
      "4   94714353971840  2429355675841  2429355675845   CS  Prefetch\n",
      "5   94714353971840  2429355675842  2429355675843   CS  Prefetch\n",
      "6   94714353971840  2429355675842  2429355675844   CS  Prefetch\n",
      "7   94714353971840  2429355675842  2429355675845   CS  Prefetch\n",
      "8   94714353971840  2429355675842  2429355675846   CS  Prefetch\n",
      "9   94714353971840  2429355675843  2429355675844   CS  Prefetch\n",
      "10  94714353971840  2429355675843  2429355675845   CS  Prefetch\n",
      "11  94714353971840  2429355675843  2429355675846   CS  Prefetch\n",
      "12  94714353971840  2429355675843  2429355675847   CS  Prefetch\n",
      "13  94714353971840  2429355675844  2429355675845   CS  Prefetch\n",
      "14  94714353971840  2429355675844  2429355675846   CS  Prefetch\n",
      "15  94714353971840  2429355675844  2429355675847   CS  Prefetch\n",
      "16  94714353971840  2429355675844  2429355675848   CS  Prefetch\n",
      "17  94714353971840  2429355675845  2429355675846   CS  Prefetch\n",
      "18  94714353971840  2429355675845  2429355675847   CS  Prefetch\n",
      "19  94714353971840  2429355675845  2429355675848   CS  Prefetch\n"
     ]
    },
    {
     "data": {
      "image/png": "[encoded data removed]",
      "text/plain": [
       "<Figure size 432x288 with 2 Axes>"
      ]
     },
     "metadata": {
      "needs_background": "light"
     },
     "output_type": "display_data"
    },
    {
     "name": "stdout",
     "output_type": "stream",
     "text": [
      "                ip       address  pref_address type Load/Pref\n",
      "0   94714353971860  215631305734  215631305735   CS  Prefetch\n",
      "1   94714353971860  215631305734  215631305736   CS  Prefetch\n",
      "2   94714353971860  215631305734  215631305737   CS  Prefetch\n",
      "3   94714353971860  215631305734  215631305738   CS  Prefetch\n",
      "4   94714353971860  215631305735  215631305736   CS  Prefetch\n",
      "5   94714353971860  215631305735  215631305737   CS  Prefetch\n",
      "6   94714353971860  215631305735  215631305738   CS  Prefetch\n",
      "7   94714353971860  215631305735  215631305739   CS  Prefetch\n",
      "8   94714353971860  215631305736  215631305737   CS  Prefetch\n",
      "9   94714353971860  215631305736  215631305738   CS  Prefetch\n",
      "10  94714353971860  215631305736  215631305739   CS  Prefetch\n",
      "11  94714353971860  215631305736  215631305740   CS  Prefetch\n",
      "12  94714353971860  215631305737  215631305738   CS  Prefetch\n",
      "13  94714353971860  215631305737  215631305739   CS  Prefetch\n",
      "14  94714353971860  215631305737  215631305740   CS  Prefetch\n",
      "15  94714353971860  215631305737  215631305741   CS  Prefetch\n",
      "16  94714353971860  215631305738  215631305739   CS  Prefetch\n",
      "17  94714353971860  215631305738  215631305740   CS  Prefetch\n",
      "18  94714353971860  215631305738  215631305741   CS  Prefetch\n",
      "19  94714353971860  215631305738  215631305742   CS  Prefetch\n"
     ]
    },
    {
     "data": {
      "image/png": "[encoded data removed]",
      "text/plain": [
       "<Figure size 432x288 with 2 Axes>"
      ]
     },
     "metadata": {
      "needs_background": "light"
     },
     "output_type": "display_data"
    },
    {
     "name": "stdout",
     "output_type": "stream",
     "text": [
      "                ip        address   pref_address type Load/Pref\n",
      "0   94714353971809  2028853466408  2028853466411   CS  Prefetch\n",
      "1   94714353971809  2028853466408  2028853466414   CS  Prefetch\n",
      "2   94714353971809  2028853466408  2028853466417   CS  Prefetch\n",
      "3   94714353971809  2028853466408  2028853466420   CS  Prefetch\n",
      "4   94714353971809  2028853468777  2028853468779   CS  Prefetch\n",
      "5   94714353971809  2028853468777  2028853468781   CS  Prefetch\n",
      "6   94714353971809  2028853468777  2028853468783   CS  Prefetch\n",
      "7   94714353971809  2028853468777  2028853468785   CS  Prefetch\n",
      "8   94714353971809  2028853469345  2028853469347   CS  Prefetch\n",
      "9   94714353971809  2028853469345  2028853469349   CS  Prefetch\n",
      "10  94714353971809  2028853469345  2028853469351   CS  Prefetch\n",
      "11  94714353971809  2028853469345  2028853469353   CS  Prefetch\n",
      "12  94714353971809  2028853469347  2028853469349   CS  Prefetch\n",
      "13  94714353971809  2028853469347  2028853469351   CS  Prefetch\n",
      "14  94714353971809  2028853469347  2028853469353   CS  Prefetch\n",
      "15  94714353971809  2028853469347  2028853469355   CS  Prefetch\n",
      "16  94714353971809  2028853469349  2028853469351   CS  Prefetch\n",
      "17  94714353971809  2028853469349  2028853469353   CS  Prefetch\n",
      "18  94714353971809  2028853469349  2028853469355   CS  Prefetch\n",
      "19  94714353971809  2028853469349  2028853469357   CS  Prefetch\n"
     ]
    }
   ],
   "source": [
    "unq_ip = reqd_data[\"ip\"].unique()\n",
    "for ind,ip in enumerate(unq_ip):\n",
    "    temp = reqd_data[reqd_data[\"ip\"] == ip].reset_index(drop=True)\n",
    "    if(temp.shape[0] < 1000):\n",
    "        continue\n",
    "    fig = plt.figure()\n",
    "    ax1 = fig.add_subplot(121)\n",
    "    ax2 = fig.add_subplot(122)\n",
    "    temp = reqd_data[reqd_data[\"ip\"] == ip].reset_index(drop = True)[:10000]\n",
    "    ax1.scatter(np.arange(temp.shape[0]),temp[\"address\"], label = \"addr\")\n",
    "    ax2.scatter(np.arange(temp.shape[0]),temp[\"pref_address\"]-temp[\"address\"], label = \"pref_addr\")\n",
    "    # plt.ylim(-5,5)\n",
    "\n",
    "    plt.show()\n",
    "    print(temp[0:20])\n",
    "    \n"
   ]
  },
  {
   "cell_type": "code",
   "execution_count": 33,
   "metadata": {
    "scrolled": false
   },
   "outputs": [
    {
     "data": {
      "image/png": "[encoded data removed]",
      "text/plain": [
       "<Figure size 432x288 with 2 Axes>"
      ]
     },
     "metadata": {
      "needs_background": "light"
     },
     "output_type": "display_data"
    },
    {
     "name": "stdout",
     "output_type": "stream",
     "text": [
      "                ip        address   pref_address type Load/Pref\n",
      "0   94714353971856  1795796980994  1795796980995   NL      Load\n",
      "1   94714353971856   641304937204   641304937205   NL      Load\n",
      "2   94714353971856  2925859928482  2925859928483   NL      Load\n",
      "3   94714353971856   758916128577   758916128578   NL      Load\n",
      "4   94714353971856  2660763287812  2660763287813   NL      Load\n",
      "5   94714353971856  2660763296126  2660763296127   NL      Load\n",
      "6   94714353971856  2660763285310  2660763285311   NL      Load\n",
      "7   94714353971856  1664050736122  1664050736123   NL      Load\n",
      "8   94714353971856  1473615215374  1473615215375   NL      Load\n",
      "9   94714353971856  1453186402945  1453186402946   NL      Load\n",
      "10  94714353971856   510223568544   510223568545   NL      Load\n",
      "11  94714353971856  3475289746563  3475289746564   NL      Load\n",
      "12  94714353971856  3524617694468  3524617694469   NL      Load\n",
      "13  94714353971856  4384930261988  4384930261989   NL      Load\n",
      "14  94714353971856  1995311250626  1995311250627   NL      Load\n",
      "15  94714353971856  3058491307450  3058491307451   NL      Load\n",
      "16  94714353971856  1453186402497  1453186402498   NL      Load\n",
      "17  94714353971856  3707401112254  3707401112255   NL      Load\n",
      "18  94714353971856   307258428002   307258428003   NL      Load\n",
      "19  94714353971856  1453186398106  1453186398107   NL      Load\n",
      "20  94714353971856   215631317374   215631317375   NL      Load\n",
      "21  94714353971856  2660763286884  2660763286885   NL      Load\n",
      "22  94714353971856   446992607615   446992607616   NL      Load\n",
      "23  94714353971856  1473615207122  1473615207123   NL      Load\n",
      "24  94714353971856  2859937738978  2859937738979   NL      Load\n"
     ]
    },
    {
     "data": {
      "image/png": "[encoded data removed]",
      "text/plain": [
       "<Figure size 432x288 with 2 Axes>"
      ]
     },
     "metadata": {
      "needs_background": "light"
     },
     "output_type": "display_data"
    },
    {
     "name": "stdout",
     "output_type": "stream",
     "text": [
      "                ip        address   pref_address type Load/Pref\n",
      "0   94714353971842   871682467261   871682467262   NL      Load\n",
      "1   94714353971842  3686367624821  3686367624822   NL      Load\n",
      "2   94714353971842  2384994530309  2384994530310   NL      Load\n",
      "3   94714353971842  2432589629813  2432589629814   NL      Load\n",
      "4   94714353971842  3524617688693  3524617688694   NL      Load\n",
      "5   94714353971842  2660763296004  2660763296005   NL      Load\n",
      "6   94714353971842  1453186400068  1453186400069   NL      Load\n",
      "7   94714353971842   858533875064   858533875065   NL      Load\n",
      "8   94714353971842  2660763281987  2660763281988   NL      Load\n",
      "9   94714353971842  3507688957701  3507688957702   NL      Load\n",
      "10  94714353971842  3475289746549  3475289746550   NL      Load\n",
      "11  94714353971842   858533875141   858533875142   NL      Load\n",
      "12  94714353971842  2912026149437  2912026149438   NL      Load\n",
      "13  94714353971842  3686367606597  3686367606598   NL      Load\n",
      "14  94714353971842  3376693908509  3376693908510   NL      Load\n",
      "15  94714353971842  3058491307379  3058491307380   NL      Load\n",
      "16  94714353971842  4084856404420  4084856404421   NL      Load\n",
      "17  94714353971842   835223753477   835223753478   NL      Load\n",
      "18  94714353971842  3507688958980  3507688958981   NL      Load\n",
      "19  94714353971842  3058491307380  3058491307381   NL  Prefetch\n",
      "20  94714353971842  3507688972699  3507688972700   NL      Load\n",
      "21  94714353971842  1795796972537  1795796972538   NL      Load\n",
      "22  94714353971842  1795796989444  1795796989445   NL      Load\n",
      "23  94714353971842  1795796989501  1795796989502   NL      Load\n",
      "24  94714353971842   308877320189   308877320190   NL      Load\n"
     ]
    },
    {
     "data": {
      "image/png": "[encoded data removed]",
      "text/plain": [
       "<Figure size 432x288 with 2 Axes>"
      ]
     },
     "metadata": {
      "needs_background": "light"
     },
     "output_type": "display_data"
    },
    {
     "name": "stdout",
     "output_type": "stream",
     "text": [
      "                ip        address   pref_address type Load/Pref\n",
      "0   94714353971232  2429355675640  2429355675641   CS  Prefetch\n",
      "1   94714353971232  2429355675640  2429355675642   CS  Prefetch\n",
      "2   94714353971232  2429355675640  2429355675643   CS  Prefetch\n",
      "3   94714353971232  2429355675640  2429355675644   CS  Prefetch\n",
      "4   94714353971232  2429355675641  2429355675642   CS  Prefetch\n",
      "5   94714353971232  2429355675641  2429355675643   CS  Prefetch\n",
      "6   94714353971232  2429355675641  2429355675644   CS  Prefetch\n",
      "7   94714353971232  2429355675641  2429355675645   CS  Prefetch\n",
      "8   94714353971232  2429355675642  2429355675643   CS  Prefetch\n",
      "9   94714353971232  2429355675642  2429355675644   CS  Prefetch\n",
      "10  94714353971232  2429355675642  2429355675645   CS  Prefetch\n",
      "11  94714353971232  2429355675642  2429355675646   CS  Prefetch\n",
      "12  94714353971232  2429355675643  2429355675644   CS  Prefetch\n",
      "13  94714353971232  2429355675643  2429355675645   CS  Prefetch\n",
      "14  94714353971232  2429355675643  2429355675646   CS  Prefetch\n",
      "15  94714353971232  2429355675643  2429355675647   CS  Prefetch\n",
      "16  94714353971232  2429355675644  2429355675645   CS  Prefetch\n",
      "17  94714353971232  2429355675644  2429355675646   CS  Prefetch\n",
      "18  94714353971232  2429355675644  2429355675647   CS  Prefetch\n",
      "19  94714353971232  2429355675645  2429355675646   CS  Prefetch\n",
      "20  94714353971232  2429355675645  2429355675647   CS  Prefetch\n",
      "21  94714353971232  2429355675646  2429355675647   CS  Prefetch\n",
      "22  94714353971232  2028853466176  2028853466177   NL  Prefetch\n",
      "23  94714353971232  2028853466178  2028853466179   CS  Prefetch\n",
      "24  94714353971232  2028853466178  2028853466180   CS  Prefetch\n"
     ]
    },
    {
     "data": {
      "image/png": "[encoded data removed]",
      "text/plain": [
       "<Figure size 432x288 with 2 Axes>"
      ]
     },
     "metadata": {
      "needs_background": "light"
     },
     "output_type": "display_data"
    },
    {
     "name": "stdout",
     "output_type": "stream",
     "text": [
      "                ip        address   pref_address type Load/Pref\n",
      "0   94714353971875  2429355675478  2429355675479   CS  Prefetch\n",
      "1   94714353971875  2429355675478  2429355675480   CS  Prefetch\n",
      "2   94714353971875  2429355675478  2429355675481   CS  Prefetch\n",
      "3   94714353971875  2429355675478  2429355675482   CS  Prefetch\n",
      "4   94714353971875  2429355675479  2429355675480   CS  Prefetch\n",
      "5   94714353971875  2429355675479  2429355675481   CS  Prefetch\n",
      "6   94714353971875  2429355675479  2429355675482   CS  Prefetch\n",
      "7   94714353971875  2429355675479  2429355675483   CS  Prefetch\n",
      "8   94714353971875  2429355675480  2429355675481   CS  Prefetch\n",
      "9   94714353971875  2429355675480  2429355675482   CS  Prefetch\n",
      "10  94714353971875  2429355675480  2429355675483   CS  Prefetch\n",
      "11  94714353971875  2429355675480  2429355675484   CS  Prefetch\n",
      "12  94714353971875  2429355675481  2429355675482   CS  Prefetch\n",
      "13  94714353971875  2429355675481  2429355675483   CS  Prefetch\n",
      "14  94714353971875  2429355675481  2429355675484   CS  Prefetch\n",
      "15  94714353971875  2429355675481  2429355675485   CS  Prefetch\n",
      "16  94714353971875  2429355675482  2429355675483   CS  Prefetch\n",
      "17  94714353971875  2429355675482  2429355675484   CS  Prefetch\n",
      "18  94714353971875  2429355675482  2429355675485   CS  Prefetch\n",
      "19  94714353971875  2429355675482  2429355675486   CS  Prefetch\n",
      "20  94714353971875  2429355675483  2429355675484   CS  Prefetch\n",
      "21  94714353971875  2429355675483  2429355675485   CS  Prefetch\n",
      "22  94714353971875  2429355675483  2429355675486   CS  Prefetch\n",
      "23  94714353971875  2429355675483  2429355675487   CS  Prefetch\n",
      "24  94714353971875  2429355675484  2429355675485   CS  Prefetch\n"
     ]
    },
    {
     "data": {
      "image/png": "[encoded data removed]",
      "text/plain": [
       "<Figure size 432x288 with 2 Axes>"
      ]
     },
     "metadata": {
      "needs_background": "light"
     },
     "output_type": "display_data"
    },
    {
     "name": "stdout",
     "output_type": "stream",
     "text": [
      "                ip        address   pref_address type Load/Pref\n",
      "0   94714353971840  2429355675840  2429355675841   NL  Prefetch\n",
      "1   94714353971840  2429355675841  2429355675842   CS  Prefetch\n",
      "2   94714353971840  2429355675841  2429355675843   CS  Prefetch\n",
      "3   94714353971840  2429355675841  2429355675844   CS  Prefetch\n",
      "4   94714353971840  2429355675841  2429355675845   CS  Prefetch\n",
      "5   94714353971840  2429355675842  2429355675843   CS  Prefetch\n",
      "6   94714353971840  2429355675842  2429355675844   CS  Prefetch\n",
      "7   94714353971840  2429355675842  2429355675845   CS  Prefetch\n",
      "8   94714353971840  2429355675842  2429355675846   CS  Prefetch\n",
      "9   94714353971840  2429355675843  2429355675844   CS  Prefetch\n",
      "10  94714353971840  2429355675843  2429355675845   CS  Prefetch\n",
      "11  94714353971840  2429355675843  2429355675846   CS  Prefetch\n",
      "12  94714353971840  2429355675843  2429355675847   CS  Prefetch\n",
      "13  94714353971840  2429355675844  2429355675845   CS  Prefetch\n",
      "14  94714353971840  2429355675844  2429355675846   CS  Prefetch\n",
      "15  94714353971840  2429355675844  2429355675847   CS  Prefetch\n",
      "16  94714353971840  2429355675844  2429355675848   CS  Prefetch\n",
      "17  94714353971840  2429355675845  2429355675846   CS  Prefetch\n",
      "18  94714353971840  2429355675845  2429355675847   CS  Prefetch\n",
      "19  94714353971840  2429355675845  2429355675848   CS  Prefetch\n",
      "20  94714353971840  2429355675845  2429355675849   CS  Prefetch\n",
      "21  94714353971840  2429355675846  2429355675847   CS  Prefetch\n",
      "22  94714353971840  2429355675846  2429355675848   CS  Prefetch\n",
      "23  94714353971840  2429355675846  2429355675849   CS  Prefetch\n",
      "24  94714353971840  2429355675846  2429355675850   CS  Prefetch\n"
     ]
    },
    {
     "data": {
      "image/png": "[encoded data removed]",
      "text/plain": [
       "<Figure size 432x288 with 2 Axes>"
      ]
     },
     "metadata": {
      "needs_background": "light"
     },
     "output_type": "display_data"
    },
    {
     "name": "stdout",
     "output_type": "stream",
     "text": [
      "                ip       address  pref_address type Load/Pref\n",
      "0   94714353971860  215631305734  215631305735   CS  Prefetch\n",
      "1   94714353971860  215631305734  215631305736   CS  Prefetch\n",
      "2   94714353971860  215631305734  215631305737   CS  Prefetch\n",
      "3   94714353971860  215631305734  215631305738   CS  Prefetch\n",
      "4   94714353971860  215631305735  215631305736   CS  Prefetch\n",
      "5   94714353971860  215631305735  215631305737   CS  Prefetch\n",
      "6   94714353971860  215631305735  215631305738   CS  Prefetch\n",
      "7   94714353971860  215631305735  215631305739   CS  Prefetch\n",
      "8   94714353971860  215631305736  215631305737   CS  Prefetch\n",
      "9   94714353971860  215631305736  215631305738   CS  Prefetch\n",
      "10  94714353971860  215631305736  215631305739   CS  Prefetch\n",
      "11  94714353971860  215631305736  215631305740   CS  Prefetch\n",
      "12  94714353971860  215631305737  215631305738   CS  Prefetch\n",
      "13  94714353971860  215631305737  215631305739   CS  Prefetch\n",
      "14  94714353971860  215631305737  215631305740   CS  Prefetch\n",
      "15  94714353971860  215631305737  215631305741   CS  Prefetch\n",
      "16  94714353971860  215631305738  215631305739   CS  Prefetch\n",
      "17  94714353971860  215631305738  215631305740   CS  Prefetch\n",
      "18  94714353971860  215631305738  215631305741   CS  Prefetch\n",
      "19  94714353971860  215631305738  215631305742   CS  Prefetch\n",
      "20  94714353971860  215631305739  215631305740   CS  Prefetch\n",
      "21  94714353971860  215631305739  215631305741   CS  Prefetch\n",
      "22  94714353971860  215631305739  215631305742   CS  Prefetch\n",
      "23  94714353971860  215631305739  215631305743   CS  Prefetch\n",
      "24  94714353971860  215631305740  215631305741   CS  Prefetch\n"
     ]
    },
    {
     "data": {
      "image/png": "[encoded data removed]",
      "text/plain": [
       "<Figure size 432x288 with 2 Axes>"
      ]
     },
     "metadata": {
      "needs_background": "light"
     },
     "output_type": "display_data"
    },
    {
     "name": "stdout",
     "output_type": "stream",
     "text": [
      "                ip        address   pref_address type Load/Pref\n",
      "0   94714353971809  2028853466408  2028853466411   CS  Prefetch\n",
      "1   94714353971809  2028853466408  2028853466414   CS  Prefetch\n",
      "2   94714353971809  2028853466408  2028853466417   CS  Prefetch\n",
      "3   94714353971809  2028853466408  2028853466420   CS  Prefetch\n",
      "4   94714353971809  2028853468777  2028853468779   CS  Prefetch\n",
      "5   94714353971809  2028853468777  2028853468781   CS  Prefetch\n",
      "6   94714353971809  2028853468777  2028853468783   CS  Prefetch\n",
      "7   94714353971809  2028853468777  2028853468785   CS  Prefetch\n",
      "8   94714353971809  2028853469345  2028853469347   CS  Prefetch\n",
      "9   94714353971809  2028853469345  2028853469349   CS  Prefetch\n",
      "10  94714353971809  2028853469345  2028853469351   CS  Prefetch\n",
      "11  94714353971809  2028853469345  2028853469353   CS  Prefetch\n",
      "12  94714353971809  2028853469347  2028853469349   CS  Prefetch\n",
      "13  94714353971809  2028853469347  2028853469351   CS  Prefetch\n",
      "14  94714353971809  2028853469347  2028853469353   CS  Prefetch\n",
      "15  94714353971809  2028853469347  2028853469355   CS  Prefetch\n",
      "16  94714353971809  2028853469349  2028853469351   CS  Prefetch\n",
      "17  94714353971809  2028853469349  2028853469353   CS  Prefetch\n",
      "18  94714353971809  2028853469349  2028853469355   CS  Prefetch\n",
      "19  94714353971809  2028853469349  2028853469357   CS  Prefetch\n",
      "20  94714353971809  2028853469348  2028853469350   CS  Prefetch\n",
      "21  94714353971809  2028853469348  2028853469352   CS  Prefetch\n",
      "22  94714353971809  2028853469348  2028853469354   CS  Prefetch\n",
      "23  94714353971809  2028853469348  2028853469356   CS  Prefetch\n",
      "24  94714353971809  2028853469350  2028853469352   CS  Prefetch\n"
     ]
    }
   ],
   "source": [
    "unq_ip = reqd_data[\"ip\"].unique()\n",
    "for ind,ip in enumerate(unq_ip):\n",
    "    temp = reqd_data[reqd_data[\"ip\"] == ip].reset_index(drop = True)\n",
    "    if(temp.shape[0] < 500): continue\n",
    "    fig = plt.figure()\n",
    "    ax1 = fig.add_subplot(121)\n",
    "    ax2 = fig.add_subplot(122)\n",
    "    ax1.scatter(np.arange(temp.shape[0]),temp[\"address\"], label = \"addr\")\n",
    "    ax2.scatter(np.arange(temp.shape[0]),temp[\"pref_address\"]-temp[\"address\"], label = \"pref_addr\")\n",
    "    plt.ylim(-5,5)\n",
    "    \n",
    "    plt.show()\n",
    "    print(temp[:25])"
   ]
  },
  {
   "cell_type": "code",
   "execution_count": null,
   "metadata": {},
   "outputs": [],
   "source": []
  }
 ],
 "metadata": {
  "interpreter": {
   "hash": "31f2aee4e71d21fbe5cf8b01ff0e069b9275f58929596ceb00d14d90e3e16cd6"
  },
  "kernelspec": {
   "display_name": "Python 3",
   "language": "python",
   "name": "python3"
  },
  "language_info": {
   "codemirror_mode": {
    "name": "ipython",
    "version": 3
   },
   "file_extension": ".py",
   "mimetype": "text/x-python",
   "name": "python",
   "nbconvert_exporter": "python",
   "pygments_lexer": "ipython3",
   "version": "3.8.10"
  }
 },
 "nbformat": 4,
 "nbformat_minor": 2
}
